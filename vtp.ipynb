{
 "cells": [
  {
   "cell_type": "code",
   "execution_count": 1,
   "metadata": {},
   "outputs": [
    {
     "name": "stdout",
     "output_type": "stream",
     "text": [
      "Moviepy - Building video F:/prism/New folder/try2/output_video.mp4.\n",
      "Moviepy - Writing video F:/prism/New folder/try2/output_video.mp4\n",
      "\n"
     ]
    },
    {
     "name": "stderr",
     "output_type": "stream",
     "text": [
      "                                                              \r"
     ]
    },
    {
     "name": "stdout",
     "output_type": "stream",
     "text": [
      "Moviepy - Done !\n",
      "Moviepy - video ready F:/prism/New folder/try2/output_video.mp4\n"
     ]
    }
   ],
   "source": [
    "import moviepy.editor as mp\n",
    "clip = mp.VideoFileClip(\"F:/prism/New folder/production_id_4804794 (1440p).mp4\")\n",
    "clip_resized = clip.resize(height=720) # make the height 720px ( According to moviePy documenation The width is then computed so that the width/height ratio is conserved.)\n",
    "clip_resized.write_videofile(\"F:/prism/New folder/try2/output_video.mp4\")\n"
   ]
  },
  {
   "cell_type": "code",
   "execution_count": 2,
   "metadata": {},
   "outputs": [
    {
     "data": {
      "application/javascript": "Jupyter.notebook.kernel.restart()",
      "text/plain": [
       "<IPython.core.display.Javascript object>"
      ]
     },
     "metadata": {},
     "output_type": "display_data"
    }
   ],
   "source": [
    "from IPython.display import display, Javascript\n",
    "\n",
    "# Use the display and Javascript function to run JavaScript code to restart the kernel\n",
    "display(Javascript('Jupyter.notebook.kernel.restart()'))\n"
   ]
  },
  {
   "cell_type": "code",
   "execution_count": 3,
   "metadata": {},
   "outputs": [
    {
     "name": "stdout",
     "output_type": "stream",
     "text": [
      "Video frame rate: 25\n",
      "Video split into 3 parts and saved in 'F:/prism/New folder/try1'.\n"
     ]
    },
    {
     "name": "stderr",
     "output_type": "stream",
     "text": [
      "2023-11-06 17:11:11,270 - 4380 - warnings.py-warnings:109 - WARNING: c:\\Users\\Vedant\\miniconda3\\Lib\\site-packages\\torchvision\\transforms\\functional_tensor.py:5: UserWarning: The torchvision.transforms.functional_tensor module is deprecated in 0.15 and will be **removed in 0.17**. Please don't rely on it. You probably just need to use APIs in torchvision.transforms.functional or in torchvision.transforms.v2.functional.\n",
      "  warnings.warn(\n",
      "\n",
      "Using cache found in C:\\Users\\Vedant/.cache\\torch\\hub\\facebookresearch_pytorchvideo_main\n"
     ]
    },
    {
     "name": "stdout",
     "output_type": "stream",
     "text": [
      "Action: push up, Start Time: 0.00, End time: 11.64\n"
     ]
    }
   ],
   "source": [
    "import cv2\n",
    "import os\n",
    "import shutil\n",
    "from moviepy.editor import VideoFileClip\n",
    "\n",
    "# Function to calculate the frame rate of a video\n",
    "def get_frame_rate(video_path):\n",
    "    cap = cv2.VideoCapture(video_path)\n",
    "    if not cap.isOpened():\n",
    "        raise Exception(\"Error: Could not open video file.\")\n",
    "    \n",
    "    frame_rate = int(cap.get(cv2.CAP_PROP_FPS))\n",
    "    cap.release()\n",
    "    return frame_rate\n",
    "\n",
    "\n",
    "part = 120\n",
    "\n",
    "\n",
    "# Function to split a video into 60-frame parts and save them\n",
    "def split_and_save_video(video_path, output_dir):\n",
    "    cap = cv2.VideoCapture(video_path)\n",
    "    if not cap.isOpened():\n",
    "        raise Exception(\"Error: Could not open video file.\")\n",
    "    \n",
    "    frame_rate = int(cap.get(cv2.CAP_PROP_FPS))\n",
    "    frame_count = int(cap.get(cv2.CAP_PROP_FRAME_COUNT))\n",
    "\n",
    "    part_length = part # Number of frames in each part\n",
    "    current_part = 1\n",
    "\n",
    "    while True:\n",
    "        success, frame = cap.read()\n",
    "        if not success:\n",
    "            break\n",
    "\n",
    "        output_part_path = os.path.join(output_dir, f\"part_{current_part}.mp4\")\n",
    "        fourcc = cv2.VideoWriter_fourcc(*'mp4v')\n",
    "        out = cv2.VideoWriter(output_part_path, fourcc, frame_rate, (frame.shape[1], frame.shape[0]))\n",
    "\n",
    "        for _ in range(part_length):\n",
    "            if not success:\n",
    "                break\n",
    "            out.write(frame)\n",
    "            success, frame = cap.read()\n",
    "        \n",
    "        out.release()\n",
    "        current_part += 1\n",
    "\n",
    "    cap.release()\n",
    "    return current_part\n",
    "\n",
    "# Input video file path\n",
    "video_path = 'F:/prism/New folder/try2/output_video.mp4'\n",
    "\n",
    "# Output directory for saving parts\n",
    "output_directory = 'F:/prism/New folder/try1'\n",
    "if os.path.exists(output_directory):\n",
    "    shutil.rmtree(output_directory)\n",
    "os.makedirs(output_directory, exist_ok=True)\n",
    "\n",
    "\n",
    "frame_rate = get_frame_rate(video_path)\n",
    "num_parts = split_and_save_video(video_path, output_directory)\n",
    "\n",
    "print(f\"Video frame rate: {frame_rate}\")\n",
    "print(f\"Video split into {num_parts - 1} parts and saved in '{output_directory}'.\")\n",
    "\n",
    "from towhee import ops, pipe, DataCollection\n",
    "from glob import glob\n",
    "\n",
    "# Define the Towhee pipeline\n",
    "p = (\n",
    "    pipe.input('video_path_root')\n",
    "    .flat_map('video_path_root', 'video_path', glob)\n",
    "    .map('video_path', 'frames', ops.video_decode.ffmpeg(sample_type='uniform_temporal_subsample', args={'num_samples': 32}))\n",
    "    .map('frames', ('predicts', 'scores', 'features'), ops.action_classification.pytorchvideo(model_name='mvit_base_32x3', skip_preprocess=True, topk=5))\n",
    "    .output('video_path', 'predicts', 'scores')\n",
    ")\n",
    "\n",
    "#DataCollection(p('./try1/*.mp4')).show()\n",
    "# Create DataCollection and process video parts\n",
    "data_collection = DataCollection(p('./try1/*.mp4'))\n",
    "\n",
    "# Extract the top predicted actions for each video part\n",
    "top_actions = []\n",
    "\n",
    "for result in data_collection:\n",
    "    predicts = result['predicts'][0] if result['predicts'] else []\n",
    "    scores = result['scores'][0] if result['scores'] else []\n",
    "    \n",
    "    # # Filter actions with scores greater than 0.5\n",
    "    # filtered_actions = [predicts[i] if (scores and scores[i] > 0.5) else None for i in range(len(predicts))]\n",
    "    \n",
    "    # top_actions.append(filtered_actions)\n",
    "    top_actions = [result['predicts'][0] if result['scores'][0] > 0.5 else [] for result in data_collection]\n",
    "\n",
    "\n",
    "# Print the top predicted actions for each video part\n",
    "# for i, actions in enumerate(top_actions, start=1):\n",
    "#     print(f\"Top predicted actions for Part {i}: {actions}\")\n",
    "\n",
    "\n",
    "# Calculate start and end times for actions and merge consecutive actions with the same label\n",
    "def calculate_timestamps(top_actions, frame_rate):\n",
    "    timestamps = []\n",
    "    current_action = None\n",
    "    start_time = 0\n",
    "\n",
    "    for i, actions in enumerate(top_actions):\n",
    "        # if not actions:\n",
    "        #     current_action = None\n",
    "        #     continue\n",
    "\n",
    "        if not current_action:\n",
    "            current_action = actions\n",
    "            # print(i)\n",
    "            start_time = (i)*part / frame_rate\n",
    "            \n",
    "        elif current_action == actions:\n",
    "            continue\n",
    "        else:\n",
    "            end_time = (i)*part / frame_rate\n",
    "            timestamps.append((current_action, start_time, end_time))\n",
    "            current_action = actions\n",
    "            start_time = (i)*part / frame_rate\n",
    "\n",
    "    # Add the last action if it exists\n",
    "    video_clip = VideoFileClip(video_path)\n",
    "    video_duration = video_clip.duration\n",
    "    video_clip.close()\n",
    "    if current_action:\n",
    "        end_time = len(top_actions) *part / frame_rate\n",
    "        timestamps.append((current_action, start_time, video_duration))\n",
    "\n",
    "    return timestamps\n",
    "\n",
    "# Calculate timestamps based on the top predicted actions\n",
    "frame_rate = get_frame_rate(video_path)\n",
    "timestamps = calculate_timestamps(top_actions, frame_rate)\n",
    "\n",
    "for action,start,end in timestamps:\n",
    "    print(f\"Action: {action}, Start Time: {start:.2f}, End time: {end:.2f}\")\n",
    "\n",
    "\n"
   ]
  }
 ],
 "metadata": {
  "kernelspec": {
   "display_name": "base",
   "language": "python",
   "name": "python3"
  },
  "language_info": {
   "codemirror_mode": {
    "name": "ipython",
    "version": 3
   },
   "file_extension": ".py",
   "mimetype": "text/x-python",
   "name": "python",
   "nbconvert_exporter": "python",
   "pygments_lexer": "ipython3",
   "version": "3.11.5"
  }
 },
 "nbformat": 4,
 "nbformat_minor": 2
}
